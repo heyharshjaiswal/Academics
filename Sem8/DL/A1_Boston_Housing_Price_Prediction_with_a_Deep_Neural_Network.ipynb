{
  "nbformat": 4,
  "nbformat_minor": 0,
  "metadata": {
    "colab": {
      "provenance": []
    },
    "kernelspec": {
      "name": "python3",
      "display_name": "Python 3"
    },
    "language_info": {
      "name": "python"
    }
  },
  "cells": [
    {
      "cell_type": "code",
      "execution_count": 2,
      "metadata": {
        "id": "O_wp1zZe4zb6"
      },
      "outputs": [],
      "source": [
        "# Data analysis and visualization\n",
        "import tensorflow as tf\n",
        "import numpy as np\n",
        "import pandas as pd\n",
        "import matplotlib.pyplot as plt\n",
        "%matplotlib inline \n",
        "\n",
        "# Preprocessing and evaluation\n",
        "from sklearn.model_selection import train_test_split\n",
        "from sklearn.compose import make_column_transformer\n",
        "from sklearn.preprocessing import MinMaxScaler"
      ]
    },
    {
      "cell_type": "code",
      "source": [
        "# Load Data\n",
        "\n",
        "(X_train , y_train), (X_test , y_test) = tf.keras.datasets.boston_housing.load_data(\n",
        "                                            path = 'boston_housing_npz',\n",
        "                                            test_split = 0.2,\n",
        "                                            seed = 42\n",
        "                                        )"
      ],
      "metadata": {
        "id": "Qb8lt5ou5FUu"
      },
      "execution_count": null,
      "outputs": []
    },
    {
      "cell_type": "code",
      "source": [
        "# Checking the data shape and type\n",
        "(X_train.shape, type(X_train)), (X_test.shape, type(X_test)), (y_train.shape, type(y_train)), (y_test.shape, type(y_test)),"
      ],
      "metadata": {
        "id": "epby2Zm85PQd"
      },
      "execution_count": null,
      "outputs": []
    },
    {
      "cell_type": "code",
      "source": [
        "# Converting Data to DataFrame \n",
        "X_train_df = pd.DataFrame(X_train)\n",
        "y_train_df = pd.DataFrame(y_train)\n",
        "\n",
        "# Preview the training data\n",
        "X_train_df.head(10)"
      ],
      "metadata": {
        "id": "5xMocCKi5Vrd"
      },
      "execution_count": null,
      "outputs": []
    },
    {
      "cell_type": "code",
      "source": [
        "# View summary of datasets\n",
        "X_train_df.info()\n",
        "print('_'*40)\n",
        "y_train_df.info()"
      ],
      "metadata": {
        "id": "bICsU7R15YuL"
      },
      "execution_count": null,
      "outputs": []
    },
    {
      "cell_type": "code",
      "source": [
        "# distribution of numerical feature values across the samples\n",
        "X_train_df.describe()"
      ],
      "metadata": {
        "id": "3bS2Gw8-VlwH"
      },
      "execution_count": null,
      "outputs": []
    },
    {
      "cell_type": "code",
      "source": [
        "# Create column transformer\n",
        "ct = make_column_transformer(\n",
        "    (MinMaxScaler(), [0, 1, 2, 4, 5, 6, 7, 8, 9, 10, 11, 12])\n",
        ")\n",
        "\n",
        "# Normalization and data type change\n",
        "X_train = ct.fit_transform(X_train).astype('float32')\n",
        "X_test = ct.transform(X_test).astype('float32')\n",
        "y_train = y_train.astype('float32')\n",
        "y_test = y_test.astype('float32')\n",
        "\n",
        "# Distribution of X_train feature values after normalization\n",
        "pd.DataFrame(X_train).describe()"
      ],
      "metadata": {
        "id": "PZT3sspqVnyn"
      },
      "execution_count": null,
      "outputs": []
    },
    {
      "cell_type": "code",
      "source": [
        "# Reserve data for validation\n",
        "X_train, X_val, y_train, y_val = train_test_split(X_train, y_train, test_size=0.1, random_state=42)\n",
        "X_train.shape, X_val.shape, y_train.shape, y_val.shape"
      ],
      "metadata": {
        "id": "Om3uZw_dVuf4"
      },
      "execution_count": null,
      "outputs": []
    },
    {
      "cell_type": "code",
      "source": [
        "# Set random seed\n",
        "tf.random.set_seed(42)\n",
        "\n",
        "# Building the model\n",
        "model = tf.keras.Sequential([\n",
        "  tf.keras.layers.Dense(units=10, activation='relu', input_shape=(X_train.shape[1],), name='Dense_1'),\n",
        "  tf.keras.layers.Dense(units=100, activation='relu', name='Dense_2'),\n",
        "  tf.keras.layers.Dense(units=1, name='Prediction')\n",
        "])\n",
        "\n",
        "# Compiling the model\n",
        "model.compile(\n",
        "    loss = tf.keras.losses.mean_squared_error,\n",
        "    optimizer = tf.keras.optimizers.RMSprop(learning_rate=0.01),\n",
        "    metrics = ['mse']\n",
        ")\n",
        "\n",
        "# Training the model\n",
        "history = model.fit(\n",
        "    X_train,\n",
        "    y_train,\n",
        "    batch_size=32,\n",
        "    epochs=50,\n",
        "    validation_data=(X_val, y_val)\n",
        ")"
      ],
      "metadata": {
        "id": "k-qFT85FV0N4"
      },
      "execution_count": null,
      "outputs": []
    },
    {
      "cell_type": "code",
      "source": [
        "# Preview the mean value of training and validation data\n",
        "y_train.mean(), y_val.mean()"
      ],
      "metadata": {
        "id": "3SPXqWyaV3Rn"
      },
      "execution_count": null,
      "outputs": []
    },
    {
      "cell_type": "code",
      "source": [
        "# Evaluate the model on the test data\n",
        "print(\"Evaluation on Test data \\n\")\n",
        "loss, mse = model.evaluate(X_test, y_test, batch_size=32)\n",
        "print(f\"\\nModel loss on test set: {loss}\")\n",
        "print(f\"Model mean squared error on test set: {(mse):.2f}\")"
      ],
      "metadata": {
        "id": "Zi1wEV5TV69p"
      },
      "execution_count": null,
      "outputs": []
    },
    {
      "cell_type": "code",
      "source": [
        "# Plot the loss curves\n",
        "pd.DataFrame(history.history).plot(figsize=(6, 4), xlabel=\"Epochs\", ylabel=\"Loss\", title='Loss Curves')\n",
        "plt.show()"
      ],
      "metadata": {
        "id": "S8Yy-y_WV9I5"
      },
      "execution_count": null,
      "outputs": []
    },
    {
      "cell_type": "code",
      "source": [
        "# Make predictions\n",
        "y_pred = model.predict(X_test)\n",
        "\n",
        "# View the first prediction\n",
        "y_pred[0]"
      ],
      "metadata": {
        "id": "xPB4TH4vV_Na"
      },
      "execution_count": null,
      "outputs": []
    },
    {
      "cell_type": "code",
      "source": [],
      "metadata": {
        "id": "xvGtwe4RWBja"
      },
      "execution_count": 14,
      "outputs": []
    }
  ]
}